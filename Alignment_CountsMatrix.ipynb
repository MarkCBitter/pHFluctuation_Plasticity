{
 "cells": [
  {
   "cell_type": "markdown",
   "metadata": {},
   "source": [
    "This markdown file takes the raw reads for all individuals from each population (these can be found on NCBI), filters them (based on quality, etc.), aligns them to a reference transcriptome, and then counts the number of reads mapping to each transcript per sample.\n",
    "\n",
    "The output is a counts matrix, which is subsequently used for all differential transcript analysis.\n",
    "\n",
    "This code follows along using this pipeline: https://github.com/z0on/tag-based_RNAseq/blob/master/tagSeq_processing_README.txt and these scripts: https://github.com/z0on/tag-based_RNAseq. "
   ]
  },
  {
   "cell_type": "code",
   "execution_count": 2,
   "metadata": {},
   "outputs": [
    {
     "data": {
      "text/plain": [
       "'/home/mbitter/Projects/CG_pH'"
      ]
     },
     "execution_count": 2,
     "metadata": {},
     "output_type": "execute_result"
    }
   ],
   "source": [
    "%pwd"
   ]
  },
  {
   "cell_type": "markdown",
   "metadata": {},
   "source": [
    "FastQC of Raw Reads"
   ]
  },
  {
   "cell_type": "code",
   "execution_count": null,
   "metadata": {},
   "outputs": [],
   "source": [
    "%%sh\n",
    "#Load modules\n",
    "module load java-jdk/1.8.0_92\n",
    "module load fastqc/0.11.5\n",
    "\n",
    "mkdir /scratch/mbitter/CGpH_scratch/FastQC_output/\n",
    "fastqc -o /scratch/mbitter/CGpH_scratch/FastQC_output/ --extract /group/pfister-lab/Bitter/CG_pH/RawQauntSeqReads_20180529/*.fastq  -t 8"
   ]
  },
  {
   "cell_type": "markdown",
   "metadata": {},
   "source": [
    "View output of FastQC using MultiQC. To view the output .html file, I simply downloaded it to my local computer and opened the file in a browser."
   ]
  },
  {
   "cell_type": "code",
   "execution_count": 4,
   "metadata": {},
   "outputs": [
    {
     "name": "stdout",
     "output_type": "stream",
     "text": [
      "Searching 840 files..\n"
     ]
    },
    {
     "name": "stderr",
     "output_type": "stream",
     "text": [
      "[WARNING]         multiqc : MultiQC Version v1.5 now available!\n",
      "[INFO   ]         multiqc : This is MultiQC v1.3\n",
      "[INFO   ]         multiqc : Template    : default\n",
      "[INFO   ]         multiqc : Searching '/scratch/mbitter/CGpH_scratch/FastQC_output/'\n",
      "[INFO   ]          fastqc : Found 42 reports\n",
      "[INFO   ]         multiqc : Compressing plot data\n",
      "[WARNING]         multiqc : Previous MultiQC output found! Adjusting filenames..\n",
      "[WARNING]         multiqc : Use -f or --force to overwrite existing reports instead\n",
      "[INFO   ]         multiqc : Report      : ../../../../scratch/mbitter/CGpH_scratch/Multiqc_output/raw_QuantSeq_CGpH_multiqc_1.html\n",
      "[INFO   ]         multiqc : Data        : ../../../../scratch/mbitter/CGpH_scratch/Multiqc_output/raw_QuantSeq_CGpH_multiqc_data_1\n",
      "[INFO   ]         multiqc : MultiQC complete\n"
     ]
    }
   ],
   "source": [
    "%%sh\n",
    "#Load modules\n",
    "module load gcc/6.2.0\n",
    "module load python/2.7.13\n",
    "\n",
    "\n",
    "multiqc -n raw_QuantSeq_CGpH_multiqc /scratch/mbitter/CGpH_scratch/FastQC_output/ -o  /scratch/mbitter/CGpH_scratch/Multiqc_output\n",
    "\n"
   ]
  },
  {
   "cell_type": "markdown",
   "metadata": {},
   "source": [
    "QC areas of concern are: Per-base Sequence Content (all failed), Per-base GC content (41 failed), Sequence Duplication Levels (all failed), and Overrepresented Sequences (all have wanrings). "
   ]
  },
  {
   "cell_type": "markdown",
   "metadata": {},
   "source": [
    "Trimming the Reads"
   ]
  },
  {
   "cell_type": "code",
   "execution_count": null,
   "metadata": {},
   "outputs": [],
   "source": [
    "%%sh\n",
    "#Load modules\n",
    "module load gcc/6.2.0\n",
    "module load fastx_toolkit/0.0.14\n",
    "\n",
    "#Make new directory for trimmed reads\n",
    "mkdir /scratch/mbitter/CGpH_scratch/TrimmedReads\n",
    "\n",
    "#Trim the first 10 bp's, polyA tails, adapters, and low quality reads (<Q20), and retain reads > 20 bp\n",
    "for i in /group/pfister-lab/Bitter/CG_pH/RawQauntSeqReads_20180529/*.fastq;\n",
    "    do fastx_trimmer -i $i -f 10 | \\\n",
    "    fastx_clipper -a AAAAAAAA -l 20 -Q33 | \\\n",
    "    fastx_clipper -a AGATCGGAAG -l 20 -Q33 | \\\n",
    "    fastq_quality_filter -Q33 -q 20 -p 90 > ${i/L008_R1_001.fastq/trim_10.fq};\n",
    "done\n",
    "\n",
    "#Move trimmed reads to trimmed directory\n",
    "mv /group/pfister-lab/Bitter/CG_pH/RawQauntSeqReads_20180529/*trim_10* /scratch/mbitter/CGpH_scratch/TrimmedReads/\n",
    "\n",
    "\n",
    "\n"
   ]
  },
  {
   "cell_type": "markdown",
   "metadata": {},
   "source": [
    "Re-run FastQC on Trimmed Files and once again use MultiQC to view output"
   ]
  },
  {
   "cell_type": "code",
   "execution_count": null,
   "metadata": {},
   "outputs": [],
   "source": [
    "%%sh\n",
    "module load java-jdk/1.8.0_92\n",
    "module load fastqc/0.11.5\n",
    "\n",
    "#Run FastQC\n",
    "fastqc -o /scratch/mbitter/CGpH_scratch/FastQC_output/TrimmedReads_FastQC/ --extract /scratch/mbitter/CGpH_scratch/TrimmedReads/*fq -t 80\n"
   ]
  },
  {
   "cell_type": "code",
   "execution_count": 8,
   "metadata": {},
   "outputs": [
    {
     "name": "stdout",
     "output_type": "stream",
     "text": [
      "Searching 840 files..\n"
     ]
    },
    {
     "name": "stderr",
     "output_type": "stream",
     "text": [
      "[WARNING]         multiqc : MultiQC Version v1.5 now available!\n",
      "[INFO   ]         multiqc : This is MultiQC v1.3\n",
      "[INFO   ]         multiqc : Template    : default\n",
      "[INFO   ]         multiqc : Searching '/scratch/mbitter/CGpH_scratch/FastQC_output/TrimmedReads_FastQC/'\n",
      "[INFO   ]          fastqc : Found 42 reports\n",
      "[INFO   ]         multiqc : Compressing plot data\n",
      "[INFO   ]         multiqc : Report      : ../../../../scratch/mbitter/CGpH_scratch/Multiqc_output/trimmed_QuantSeq_CGpH_multiqc.html\n",
      "[INFO   ]         multiqc : Data        : ../../../../scratch/mbitter/CGpH_scratch/Multiqc_output/trimmed_QuantSeq_CGpH_multiqc_data\n",
      "[INFO   ]         multiqc : MultiQC complete\n"
     ]
    }
   ],
   "source": [
    "%%sh\n",
    "#Load modules\n",
    "module load gcc/6.2.0\n",
    "module load python/2.7.13\n",
    "\n",
    "multiqc -n trimmed_QuantSeq_CGpH_multiqc /scratch/mbitter/CGpH_scratch/FastQC_output/TrimmedReads_FastQC/ -o  /scratch/mbitter/CGpH_scratch/Multiqc_output//\n",
    "\n"
   ]
  },
  {
   "cell_type": "markdown",
   "metadata": {},
   "source": [
    "Looks much better for per-base sequence content and per-base GC content . It looks worse for sequence duplication levels (in all sequences), and overrepresented sequences (in 37 samples)"
   ]
  },
  {
   "cell_type": "markdown",
   "metadata": {},
   "source": [
    "Mapping reads to reference transcriptome that eliminates all putative isoforms (Moreira et al. 2015) using BowTie2 "
   ]
  },
  {
   "cell_type": "code",
   "execution_count": null,
   "metadata": {},
   "outputs": [],
   "source": [
    "%%sh\n",
    "#Load modules\n",
    "module load gcc intel\n",
    "module load bowtie2\n",
    "\n",
    "#Build index using Moreira 2015 M. galloprovincialis transcriptome.\n",
    "bowtie2-build --threads 8 -f /group/pfister-lab/Bitter/PublishedSequences/MoreiraTranscriptome/Moreira2015_Mgallo_transcriptome.fa /scratch/mbitter/CGpH_scratch/TranscriptomeAlignment/MgalloIndex\n",
    "\n",
    "cd /scratch/mbitter/CGpH_scratch/TranscriptomeAlignment/\n",
    "\n",
    "#Run Bowtie on one practice sample\n",
    "bowtie2 --local -x /scratch/mbitter/CGpH_scratch/TranscriptomeAlignment/MgalloIndex -U /scratch/mbitter/CGpH_scratch/TrimmedReads/CP-KS-MB-Lib1-CGpH-13_S14_trim_10.fq -S $S --no-hd --no-sq --no-unal -k 5 -p 8 2 "
   ]
  },
  {
   "cell_type": "code",
   "execution_count": 2,
   "metadata": {},
   "outputs": [
    {
     "name": "stderr",
     "output_type": "stream",
     "text": [
      "\n",
      "Lmod is automatically replacing \"gcc/6.2.0\" with \"intel/2017\"\n",
      "\n"
     ]
    }
   ],
   "source": [
    "%%sh\n",
    "\n",
    "#Loop through all files and run bowtie\n",
    "S=\"/scratch/mbitter/CGpH_scratch/TranscriptomeAlignment/MappedReads/${i/trim_10.fq/bt2.sam}\"\n",
    "out=\"/scratch/mbitter/CGpH_scratch/TranscriptomeAlignment/MappedReads/${i/trim_10.fq/bt2.stout}\"\n",
    "bowtie2 --local -x /scratch/mbitter/CGpH_scratch/TranscriptomeAlignment/MgalloIndex -U /scratch/mbitter/CGpH_scratch/TrimmedReads/CP-KS-MB-Lib1-CGpH-13_S14_trim_10.fq -S PracticeAlignment.sam\n",
    "#Load modules\n",
    "module load gcc intel\n",
    "module load bowtie2\n",
    "#Map Trimmed reads against Index\n",
    "cd /scratch/mbitter/CGpH_scratch/TrimmedReads\n",
    "for i in *.fq; do\n",
    "    S=\"/scratch/mbitter/CGpH_scratch/TranscriptomeAlignment/MappedReads/${i/trim_10.fq/bt2.sam}\"\n",
    "    out=\"/scratch/mbitter/CGpH_scratch/TranscriptomeAlignment/MappedReads/${i/trim_10.fq/bt2.stout}\"\n",
    "    bowtie2 --local -x /scratch/mbitter/CGpH_scratch/TranscriptomeAlignment/MgalloIndex -U $i -S $S --no-hd --no-sq --no-unal -k 5 -p 8 2> $out;\n",
    "done\n"
   ]
  },
  {
   "cell_type": "markdown",
   "metadata": {},
   "source": [
    "Now let's check the output from an individual alignment"
   ]
  },
  {
   "cell_type": "code",
   "execution_count": 1,
   "metadata": {},
   "outputs": [
    {
     "name": "stdout",
     "output_type": "stream",
     "text": [
      "4835124 reads; of these:\n",
      "  4835124 (100.00%) were unpaired; of these:\n",
      "    1179960 (24.40%) aligned 0 times\n",
      "    1540365 (31.86%) aligned exactly 1 time\n",
      "    2114799 (43.74%) aligned >1 times\n",
      "75.60% overall alignment rate\n"
     ]
    }
   ],
   "source": [
    "%%sh\n",
    "cat /scratch/mbitter/CGpH_scratch/TranscriptomeAlignment/MappedReads/CP-KS-MB-Lib1-CGpH-28_S31_bt2.stout\n"
   ]
  },
  {
   "cell_type": "markdown",
   "metadata": {},
   "source": [
    "Now, let's use python to print out summaries for each sample"
   ]
  },
  {
   "cell_type": "code",
   "execution_count": null,
   "metadata": {},
   "outputs": [],
   "source": [
    "import glob, os\n",
    "files = []\n",
    "os.chdir(\"/scratch/mbitter/CGpH_scratch/TranscriptomeAlignment/MappedReads/\")\n",
    "for file in glob.glob(\"*.stout\"):\n",
    "    files.append(file)\n",
    "\n",
    "reads = []\n",
    "maps= []\n",
    "multiple = []\n",
    "for f in files:\n",
    "    name = '-'.join(f.split('_')[0].split('-')[2:8])\n",
    "    print(name)\n",
    "    IN = open(f,\"r\")\n",
    "    read = IN.readline().split()[0]\n",
    "    read = int(read)\n",
    "    reads.append(read)\n",
    "    print(\"Reads: \"+str(read))\n",
    "    IN.readline()\n",
    "    IN.readline()\n",
    "    IN.readline()\n",
    "    mult = float(IN.readline().split()[1][1:-2])\n",
    "    multiple.append(mult)\n",
    "    print(\"Multiple: \"+str(mult))\n",
    "    mapping = float(IN.readline().split()[0][:-1])\n",
    "    maps.append(mapping)\n",
    "    print(\"Overall mapping: \"+str(mapping))\n",
    "\n",
    "print(\"Mean reads: \"+str(sum(reads)/float(len(reads))))\n",
    "print(\"Mean mapping multiple: \"+str(sum(multiple)/float(len(multiple))))\n",
    "print(\"Mean mapping: \"+str(sum(maps)/float(len(maps))))\n",
    "print(\"Number of samples: \"+str(len(reads)))"
   ]
  },
  {
   "cell_type": "code",
   "execution_count": null,
   "metadata": {},
   "outputs": [],
   "source": [
    "import glob, os\n",
    "files = []\n",
    "os.chdir(\"/scratch/mbitter/CGpH_scratch/TranscriptomeAlignment/MappedReads/\")\n",
    "for file in glob.glob(\"*.stout\"):\n",
    "    files.append(file)\n",
    "\n",
    "reads = []\n",
    "maps= []\n",
    "multiple = []\n",
    "for f in files:\n",
    "    name = '-'.join(f.split('_')[0].split('-')[2:8])\n",
    "    print(name)\n"
   ]
  },
  {
   "cell_type": "markdown",
   "metadata": {},
   "source": [
    "Generating counts matrix - Count the number of transcripts mapping to each gene/isoform from the transcriptome. "
   ]
  },
  {
   "cell_type": "code",
   "execution_count": 1,
   "metadata": {},
   "outputs": [],
   "source": [
    "#Generating table with 'reference_seq<tab>gene_ID' that will be used to identify read counts of aligned reads.\n",
    "import glob, os\n",
    "import re\n",
    "import pyfaidx\n",
    "import pandas as pd\n",
    "\n",
    "\n",
    "os.chdir(\"/scratch/mbitter/CGpH_scratch/\")\n",
    "\n",
    "\n",
    "ReferenceTranscriptome = pyfaidx.Fasta(\"./ReferenceTranscriptome.fasta\")\n",
    "Gene_List = list(ReferenceTranscriptome.keys())\n",
    "\n",
    "\n",
    "gene_dict = {}\n",
    "cnt = 1\n",
    "for i in Gene_List:\n",
    "    cur_gene = i.split('.')[0]\n",
    "    if cur_gene not in gene_dict:\n",
    "        gene_dict[cur_gene] = cnt\n",
    "        cnt +=1\n",
    "final_dict = {}      \n",
    "for i in Gene_List:\n",
    "    cur_id = i.split('.')[0]\n",
    "    final_dict[i] = gene_dict[cur_id]\n",
    "\n",
    "\n",
    "Isos = list(final_dict.keys())\n",
    "Genes = list(final_dict.values())\n",
    "\n",
    "df = pd.DataFrame({\"ref_seq\": Isos})\n",
    "df[\"gene_id\"] = Genes\n",
    "df.head()\n",
    "\n",
    "df.to_csv(\"./gene_ids.tsv\", sep=\"\\t\", index=False, header=False)\n",
    "\n",
    "\n"
   ]
  },
  {
   "cell_type": "markdown",
   "metadata": {},
   "source": [
    "Using samcount.pl to count number of reads mapping to each gene/isoform."
   ]
  },
  {
   "cell_type": "markdown",
   "metadata": {},
   "source": [
    "First, practice using one file."
   ]
  },
  {
   "cell_type": "code",
   "execution_count": 3,
   "metadata": {},
   "outputs": [
    {
     "name": "stderr",
     "output_type": "stream",
     "text": [
      "disregarding reads mapping to multiple isogroups\n"
     ]
    }
   ],
   "source": [
    "%%sh\n",
    "\n",
    "cd /scratch/mbitter/CGpH_scratch/TranscriptomeAlignment/MappedReads/\n",
    "\n",
    "/scratch/mbitter/CGpH_scratch/tag-based_RNAseq/samcount.pl ./CP-KS-MB-Lib1-CGpH-12_S37_bt2.sam /scratch/mbitter/CGpH_scratch/gene_ids.tsv aligner=bowtie2 > CP-KS-MB-Lib1-CGpH-12_S37_bt2.sam.count\n"
   ]
  },
  {
   "cell_type": "markdown",
   "metadata": {},
   "source": [
    "It works! Now, loop through all libraries/mapped reads."
   ]
  },
  {
   "cell_type": "code",
   "execution_count": null,
   "metadata": {},
   "outputs": [],
   "source": [
    "%%sh\n",
    "\n",
    "cd /scratch/mbitter/CGpH_scratch/TranscriptomeAlignment/MappedReads/\n",
    "\n",
    "for i in *.sam; do\n",
    "    /scratch/mbitter/CGpH_scratch/tag-based_RNAseq/samcount.pl $i /scratch/mbitter/CGpH_scratch/gene_ids.tsv aligner=bowtie2 >${i/.sam/.sam.counts}\n",
    "done\n",
    "    "
   ]
  },
  {
   "cell_type": "markdown",
   "metadata": {},
   "source": [
    "Now, generate the counts.txt (matrix) "
   ]
  },
  {
   "cell_type": "code",
   "execution_count": 6,
   "metadata": {},
   "outputs": [],
   "source": [
    "%%sh\n",
    "\n",
    "cd /scratch/mbitter/CGpH_scratch/TranscriptomeAlignment/MappedReads/\n",
    "\n",
    "/scratch/mbitter/CGpH_scratch/tag-based_RNAseq/expression_compiler.pl *.sam.counts > EviOkAlt_allcounts.txt"
   ]
  },
  {
   "cell_type": "code",
   "execution_count": 8,
   "metadata": {},
   "outputs": [
    {
     "name": "stdout",
     "output_type": "stream",
     "text": [
      "\tCP-KS-MB-Lib1-CGpH-10_S39_bt2.sam.counts\tCP-KS-MB-Lib1-CGpH-11_S28_bt2.sam.counts\tCP-KS-MB-Lib1-CGpH-12_S37_bt2.sam.counts\tCP-KS-MB-Lib1-CGpH-13_S14_bt2.sam.counts\tCP-KS-MB-Lib1-CGpH-14_S6_bt2.sam.counts\tCP-KS-MB-Lib1-CGpH-15_S20_bt2.sam.counts\tCP-KS-MB-Lib1-CGpH-16_S33_bt2.sam.counts\tCP-KS-MB-Lib1-CGpH-17_S2_bt2.sam.counts\tCP-KS-MB-Lib1-CGpH-18_S21_bt2.sam.counts\tCP-KS-MB-Lib1-CGpH-19_S19_bt2.sam.counts\tCP-KS-MB-Lib1-CGpH-1_S13_bt2.sam.counts\tCP-KS-MB-Lib1-CGpH-20_S3_bt2.sam.counts\tCP-KS-MB-Lib1-CGpH-21_S17_bt2.sam.counts\tCP-KS-MB-Lib1-CGpH-22_S18_bt2.sam.counts\tCP-KS-MB-Lib1-CGpH-22rep_S41_bt2.sam.counts\tCP-KS-MB-Lib1-CGpH-23_S30_bt2.sam.counts\tCP-KS-MB-Lib1-CGpH-24_S32_bt2.sam.counts\tCP-KS-MB-Lib1-CGpH-25_S5_bt2.sam.counts\tCP-KS-MB-Lib1-CGpH-26_S23_bt2.sam.counts\tCP-KS-MB-Lib1-CGpH-27_S22_bt2.sam.counts\tCP-KS-MB-Lib1-CGpH-28_S31_bt2.sam.counts\tCP-KS-MB-Lib1-CGpH-29_S24_bt2.sam.counts\tCP-KS-MB-Lib1-CGpH-2_S15_bt2.sam.counts\tCP-KS-MB-Lib1-CGpH-30_S29_bt2.sam.counts\tCP-KS-MB-Lib1-CGpH-30rep_S42_bt2.sam.counts\tCP-KS-MB-Lib1-CGpH-31_S9_bt2.sam.counts\tCP-KS-MB-Lib1-CGpH-32_S16_bt2.sam.counts\tCP-KS-MB-Lib1-CGpH-33_S10_bt2.sam.counts\tCP-KS-MB-Lib1-CGpH-34_S38_bt2.sam.counts\tCP-KS-MB-Lib1-CGpH-35_S36_bt2.sam.counts\tCP-KS-MB-Lib1-CGpH-36_S27_bt2.sam.counts\tCP-KS-MB-Lib1-CGpH-37_S26_bt2.sam.counts\tCP-KS-MB-Lib1-CGpH-38_S34_bt2.sam.counts\tCP-KS-MB-Lib1-CGpH-39_S1_bt2.sam.counts\tCP-KS-MB-Lib1-CGpH-3_S25_bt2.sam.counts\tCP-KS-MB-Lib1-CGpH-40_S4_bt2.sam.counts\tCP-KS-MB-Lib1-CGpH-4_S11_bt2.sam.counts\tCP-KS-MB-Lib1-CGpH-5_S12_bt2.sam.counts\tCP-KS-MB-Lib1-CGpH-6_S8_bt2.sam.counts\tCP-KS-MB-Lib1-CGpH-7_S7_bt2.sam.counts\tCP-KS-MB-Lib1-CGpH-8_S40_bt2.sam.counts\tCP-KS-MB-Lib1-CGpH-9_S35_bt2.sam.counts\t\n"
     ]
    }
   ],
   "source": [
    "%%sh\n",
    "head -n 1 /scratch/mbitter/CGpH_scratch/TranscriptomeAlignment/MappedReads/EviOkAlt_allcounts.txt"
   ]
  },
  {
   "cell_type": "markdown",
   "metadata": {},
   "source": [
    "After completing the above, I moved all data to the /group/pfister-lab/ and /home/mbitter directories.\n",
    "\n",
    "I also re-named the EviAllCounts file to CGpH_Counts.csv, and it is now located in /home/mbitter/CG_pH/Data"
   ]
  },
  {
   "cell_type": "code",
   "execution_count": 40,
   "metadata": {},
   "outputs": [
    {
     "data": {
      "text/plain": [
       "(101209, 43)"
      ]
     },
     "execution_count": 40,
     "metadata": {},
     "output_type": "execute_result"
    }
   ],
   "source": [
    "import glob, os\n",
    "import pandas as pd\n",
    "\n",
    "os.chdir(\"/home/mbitter/Projects/CG_pH/Data/\")\n",
    "\n",
    "data = pd.read_csv(\"CGpH_allcounts.txt\", sep = \"\\t\")\n",
    "# Remove Unnamed 43\n",
    "data = data.drop('Unnamed: 43', axis=1)\n",
    "\n",
    "\n",
    "# re-assigning columns\n",
    "cur_colnames = data.columns\n",
    "new_colnames = []\n",
    "for c in cur_colnames:\n",
    "    if \"Unnamed\" not in c:\n",
    "        col_split = c.split('-')\n",
    "        cgph = col_split[4]\n",
    "        individual = col_split[5].split('_')[0]\n",
    "#         new_colnames.append(\"%s.%s\" % (cgph,individual))\n",
    "        new_colnames.append(cgph + \".\" + individual)\n",
    "    else:\n",
    "        new_colnames.append(\"Gene\")\n",
    "\n",
    "# Re-assign column names\n",
    "data.columns = new_colnames\n",
    "\n",
    "\n",
    "data.to_csv(\"./CGpH_Counts.csv\", sep=\",\", header=True, index=False)\n",
    "data.shape\n"
   ]
  }
 ],
 "metadata": {
  "kernelspec": {
   "display_name": "Python 3",
   "language": "python",
   "name": "python3"
  },
  "language_info": {
   "codemirror_mode": {
    "name": "ipython",
    "version": 3
   },
   "file_extension": ".py",
   "mimetype": "text/x-python",
   "name": "python",
   "nbconvert_exporter": "python",
   "pygments_lexer": "ipython3",
   "version": "3.7.3"
  }
 },
 "nbformat": 4,
 "nbformat_minor": 4
}
